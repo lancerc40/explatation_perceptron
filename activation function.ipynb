{
 "cells": [
  {
   "cell_type": "markdown",
   "metadata": {},
   "source": [
    "# 活性化関数"
   ]
  },
  {
   "cell_type": "markdown",
   "metadata": {},
   "source": [
    "# ・役割\n",
    "　活性化関数は入力信号の総和がどのように活性化するか（どのように発火するか）→１か０を出しやすくするということを決定する役割がある\n",
    " "
   ]
  },
  {
   "cell_type": "markdown",
   "metadata": {},
   "source": [
    "# ・目的\n",
    "　出力値を決定する（１か０）"
   ]
  },
  {
   "cell_type": "markdown",
   "metadata": {},
   "source": [
    "# ・種類"
   ]
  },
  {
   "cell_type": "markdown",
   "metadata": {},
   "source": [
    "単層パーセプトロンはステップ関数を採用している。\n",
    "　ステップ関数　→ x < 0 ならば0を出力, 1 < x ならば1 を出力"
   ]
  },
  {
   "cell_type": "markdown",
   "metadata": {},
   "source": [
    "ニューラルネットワークでは①シグモイド関数　h(x) = 1 / 1+exp(-x)、②ReLU関数 h(x) = x(x>0), h(x)=0(x<=0) を採用している"
   ]
  },
  {
   "cell_type": "markdown",
   "metadata": {},
   "source": [
    "# ステップ関数とシグモイド関数の共通点"
   ]
  },
  {
   "cell_type": "markdown",
   "metadata": {},
   "source": [
    "入力信号が重要な情報であれば大きな値を出力し、入力信号が重要でなければ小さな値を出力する。どんなに入力信号の値が小さくても、どんなに入力信号の値が大きくても、出力信号の値を０から１の間に」押し込める。\n",
    "両者はともに非線形関数である。←線形関数を用いると、ニューラルネットワークで層を深くすることの意味がなくなってしまう"
   ]
  },
  {
   "cell_type": "code",
   "execution_count": null,
   "metadata": {},
   "outputs": [],
   "source": []
  }
 ],
 "metadata": {
  "kernelspec": {
   "display_name": "Python 3",
   "language": "python",
   "name": "python3"
  },
  "language_info": {
   "codemirror_mode": {
    "name": "ipython",
    "version": 3
   },
   "file_extension": ".py",
   "mimetype": "text/x-python",
   "name": "python",
   "nbconvert_exporter": "python",
   "pygments_lexer": "ipython3",
   "version": "3.7.1"
  }
 },
 "nbformat": 4,
 "nbformat_minor": 2
}
